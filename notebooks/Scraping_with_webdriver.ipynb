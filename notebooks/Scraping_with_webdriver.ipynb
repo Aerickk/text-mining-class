{
 "cells": [
  {
   "cell_type": "markdown",
   "metadata": {},
   "source": [
    "# Web Scraping with a Programmatic Browser\n",
    "\n",
    "Many website use a lot of javascript to render the navigation more dynamic and optimize display speed by only loading the content that can be displayed on the screen of the user devices.\n",
    "\n",
    "For these websites, writing a scraper at the HTTP + HTML level is too complex: one would need to record and analyze all the HTTP request / responses of a typical navigation session to understand how to simulate it with low level tools such as `urllib` and `lxml`.\n",
    "\n",
    "An alternative is to programmatically control the execution of a full-fledged browser like Firefox, Chrome, Edge or Safari and introspect the state of the Document object model. This way it is possible to execute all the javascript necessary to trigger navigation events by using an API that reflects how the end user would interact with the web page (clicking on links, mouse scroll events, pressing keys on the keyboard to type text in forms and so on).\n",
    "\n",
    "To illustrate this approach, let's write a program that simulates the navigation to the Book section of the amazon online shop and retrieve the list of the title of best sellers along with their respective price.\n",
    "\n",
    "To do this exercises you will need to install the Python package for `selenium` (that includes the `webdriver` API), the [Firefox](https://www.mozilla.org/en-US/firefox/) web browser and the [geckodriver](https://github.com/mozilla/geckodriver/releases) helper program (de-zip it and put it somewhere in your PATH, for instance in the `bin/` or `Scripts/` folder of your conda environment."
   ]
  },
  {
   "cell_type": "code",
   "execution_count": null,
   "metadata": {},
   "outputs": [],
   "source": [
    "import sys\n",
    "!{sys.executable} -m pip install selenium"
   ]
  },
  {
   "cell_type": "code",
   "execution_count": null,
   "metadata": {},
   "outputs": [],
   "source": [
    "from selenium import webdriver"
   ]
  },
  {
   "cell_type": "code",
   "execution_count": null,
   "metadata": {},
   "outputs": [],
   "source": [
    "driver = webdriver.Firefox()"
   ]
  },
  {
   "cell_type": "code",
   "execution_count": null,
   "metadata": {},
   "outputs": [],
   "source": [
    "driver.get(\"https://www.amazon.com\")"
   ]
  },
  {
   "cell_type": "markdown",
   "metadata": {},
   "source": [
    "## Navigation to the Book Page"
   ]
  },
  {
   "cell_type": "code",
   "execution_count": null,
   "metadata": {},
   "outputs": [],
   "source": [
    "driver.find_elements_by_partial_link_text(\"book\")"
   ]
  },
  {
   "cell_type": "code",
   "execution_count": null,
   "metadata": {},
   "outputs": [],
   "source": [
    "driver.find_elements_by_link_text(\"Departments\")"
   ]
  },
  {
   "cell_type": "code",
   "execution_count": null,
   "metadata": {},
   "outputs": [],
   "source": [
    "departments_link = driver.find_element_by_link_text(\"Departments\")"
   ]
  },
  {
   "cell_type": "code",
   "execution_count": null,
   "metadata": {},
   "outputs": [],
   "source": [
    "departments_link.click()"
   ]
  },
  {
   "cell_type": "code",
   "execution_count": null,
   "metadata": {},
   "outputs": [],
   "source": [
    "driver.find_elements_by_link_text(\"Books\")"
   ]
  },
  {
   "cell_type": "code",
   "execution_count": null,
   "metadata": {},
   "outputs": [],
   "source": [
    "driver.find_element_by_link_text(\"Books\").click()"
   ]
  },
  {
   "cell_type": "markdown",
   "metadata": {},
   "source": [
    "## Finding the List of Best Sellers"
   ]
  },
  {
   "cell_type": "code",
   "execution_count": null,
   "metadata": {},
   "outputs": [],
   "source": [
    "carousels = driver.find_elements_by_class_name(\"acswidget-carousel\")\n",
    "len(carousels)"
   ]
  },
  {
   "cell_type": "code",
   "execution_count": null,
   "metadata": {},
   "outputs": [],
   "source": [
    "carousels = driver.find_elements_by_css_selector(\".acswidget-carousel\")\n",
    "len(carousels)"
   ]
  },
  {
   "cell_type": "code",
   "execution_count": null,
   "metadata": {},
   "outputs": [],
   "source": [
    "first_carousel = carousels[0]\n",
    "first_carousel.tag_name"
   ]
  },
  {
   "cell_type": "code",
   "execution_count": null,
   "metadata": {},
   "outputs": [],
   "source": [
    "print(carousels[0].text[:100])"
   ]
  },
  {
   "cell_type": "code",
   "execution_count": null,
   "metadata": {},
   "outputs": [],
   "source": [
    "print(carousels[1].text[:100])"
   ]
  },
  {
   "cell_type": "code",
   "execution_count": null,
   "metadata": {},
   "outputs": [],
   "source": [
    "print(carousels[2].text[:100])"
   ]
  },
  {
   "cell_type": "code",
   "execution_count": null,
   "metadata": {},
   "outputs": [],
   "source": [
    "bestsellers_carousels = [carousel for carousel in carousels\n",
    "                         if \"Books Bestsellers\" in carousel.text]\n",
    "len(bestsellers_carousels)"
   ]
  },
  {
   "cell_type": "code",
   "execution_count": null,
   "metadata": {},
   "outputs": [],
   "source": [
    "[bestsellers_carousel] = bestsellers_carousels"
   ]
  },
  {
   "cell_type": "code",
   "execution_count": null,
   "metadata": {},
   "outputs": [],
   "source": [
    "nextpage_button = bestsellers_carousel.find_element_by_class_name(\"a-carousel-goto-nextpage\")"
   ]
  },
  {
   "cell_type": "code",
   "execution_count": null,
   "metadata": {},
   "outputs": [],
   "source": [
    "nextpage_button.click()"
   ]
  },
  {
   "cell_type": "code",
   "execution_count": null,
   "metadata": {},
   "outputs": [],
   "source": [
    "driver.execute_script(\"arguments[0].click();\", nextpage_button)"
   ]
  },
  {
   "cell_type": "code",
   "execution_count": null,
   "metadata": {},
   "outputs": [],
   "source": [
    "cards = bestsellers_carousel.find_elements_by_class_name(\"a-carousel-card\")\n",
    "len(cards)"
   ]
  },
  {
   "cell_type": "markdown",
   "metadata": {},
   "source": [
    "Try to resize the firefox window or reduce the font size and fetch again the list of cards in the `bestsellers_carousel` element."
   ]
  },
  {
   "cell_type": "code",
   "execution_count": null,
   "metadata": {},
   "outputs": [],
   "source": [
    "cards = bestsellers_carousel.find_elements_by_class_name(\"a-carousel-card\")\n",
    "len(cards)"
   ]
  },
  {
   "cell_type": "markdown",
   "metadata": {},
   "source": [
    "Notice that the content can change dynamically: the javascript in the page reacts to font-size or window-size change events to load the information of more books and update the DOM dynamically.\n",
    "\n",
    "Let's consider the first \"carousel card\" element of our updated carousel."
   ]
  },
  {
   "cell_type": "code",
   "execution_count": null,
   "metadata": {},
   "outputs": [],
   "source": [
    "first_card = next(iter(cards))"
   ]
  },
  {
   "cell_type": "code",
   "execution_count": null,
   "metadata": {},
   "outputs": [],
   "source": [
    "print(first_card.text)"
   ]
  },
  {
   "cell_type": "code",
   "execution_count": null,
   "metadata": {},
   "outputs": [],
   "source": [
    "product_links = [tag for tag in first_card.find_elements_by_tag_name(\"a\")\n",
    "                 if \"/product/\" in tag.get_attribute(\"href\")]\n",
    "product_links"
   ]
  },
  {
   "cell_type": "code",
   "execution_count": null,
   "metadata": {},
   "outputs": [],
   "source": [
    "[link.text for link in product_links]"
   ]
  },
  {
   "cell_type": "markdown",
   "metadata": {},
   "source": [
    "## Exercises:\n",
    "\n",
    "- Use Firefox \"Inspect Element\" tool to analyse the DOM and find a way to extract the text of the price element for `first_card`\n",
    "\n",
    "- Write a function named `extract_price(card)` that extracts the **numerical** price for the book described in a \"carousel card\" element. Try the function on `first_card`.\n",
    "\n",
    "- Write a function named `extract_bookname(card)` that extracts the name of the book described in a \"carousel card\" element. Try your function on `first_card`.\n",
    "\n",
    "- Write a function named `extract_product_id(card)` that extracts the Amazon product identifier from the URL of the product link in the card."
   ]
  },
  {
   "cell_type": "code",
   "execution_count": null,
   "metadata": {},
   "outputs": [],
   "source": [
    "def extract_price(book_card):\n",
    "    # TODO: implement me!\n",
    "    return 10.0\n",
    "\n",
    "\n",
    "extract_price(first_card)"
   ]
  },
  {
   "cell_type": "code",
   "execution_count": null,
   "metadata": {},
   "outputs": [],
   "source": [
    "def extract_price(book_card):\n",
    "    price_element = book_card.find_element_by_class_name(\"acs_product-price\")\n",
    "    price_text = price_element.text.strip()\n",
    "    assert price_text.startswith(\"$\")\n",
    "    return float(price_text[1:])\n",
    "\n",
    "extract_price(first_card)"
   ]
  },
  {
   "cell_type": "code",
   "execution_count": null,
   "metadata": {},
   "outputs": [],
   "source": [
    "def extract_bookname(book_card):\n",
    "    # TODO: implement me\n",
    "    return \"The story of my life\"\n",
    "\n",
    "extract_bookname(first_card)"
   ]
  },
  {
   "cell_type": "code",
   "execution_count": null,
   "metadata": {},
   "outputs": [],
   "source": [
    "def extract_bookname(book_card):\n",
    "    link_tags = [tag for tag in book_card.find_elements_by_tag_name(\"a\")\n",
    "                 if \"/product/\" in tag.get_attribute(\"href\")\n",
    "                 and not tag.find_elements_by_tag_name(\"img\")]\n",
    "    assert len(link_tags) == 1\n",
    "    return next(iter(link_tags)).text\n",
    "\n",
    "extract_bookname(first_card)"
   ]
  },
  {
   "cell_type": "code",
   "execution_count": null,
   "metadata": {},
   "outputs": [],
   "source": [
    "def extract_product_id(book_card):\n",
    "    # TODO: implement me!\n",
    "    return 238834593244\n",
    "\n",
    "\n",
    "extract_product_id(first_card)"
   ]
  },
  {
   "cell_type": "code",
   "execution_count": null,
   "metadata": {},
   "outputs": [],
   "source": [
    "def extract_product_id(book_card):\n",
    "    link_urls = [tag.get_attribute(\"href\")\n",
    "                 for tag in book_card.find_elements_by_tag_name(\"a\")]\n",
    "    product_urls = set(url for url in link_urls if \"/product/\" in url)\n",
    "    assert len(product_urls) == 1\n",
    "    url = next(iter(product_urls))\n",
    "    components = url.split(\"/\")\n",
    "    return int(components[components.index(\"product\") + 1])\n",
    "    \n",
    "\n",
    "extract_product_id(first_card)"
   ]
  },
  {
   "cell_type": "markdown",
   "metadata": {},
   "source": [
    "## Exercise\n",
    "\n",
    "Write a function that takes a new driver as argument, navigates to the book departments and retrieve the top 30 book sellers. For each book extract the amazon product identifier, the title of the book and the price.\n",
    "\n",
    "Store the results in a list of Python dictionaries or a pandas dataframe."
   ]
  },
  {
   "cell_type": "code",
   "execution_count": null,
   "metadata": {},
   "outputs": [],
   "source": [
    "def find_bestsellers_carousel(driver):\n",
    "    driver.get(\"https://www.amazon.com\")\n",
    "    driver.find_element_by_link_text(\"Departments\").click()\n",
    "    driver.find_element_by_link_text(\"Books\").click()\n",
    "    carousels = driver.find_elements_by_class_name(\"acswidget-carousel\")\n",
    "    bestsellers_carousels = [carousel for carousel in carousels\n",
    "                             if \"Books Bestsellers\" in carousel.text]\n",
    "    assert len(bestsellers_carousels) == 1\n",
    "    return next(iter(bestsellers_carousels))\n",
    "\n",
    "\n",
    "def extract_bestseller_data()\n",
    "\n",
    "\n",
    "def extract_bookname(book_card):\n",
    "    link_tags = [tag for tag in first_card.find_elements_by_tag_name(\"a\")\n",
    "                 if \"/product/\" in tag.get_attribute(\"href\")\n",
    "                 and not tag.find_elements_by_tag_name(\"img\")]\n",
    "    assert len(link_tags) == 1\n",
    "    return next(iter(link_tags)).text\n",
    "\n",
    "\n",
    "def extract_price(book_card):\n",
    "    price_element = book_card.find_element_by_class_name(\"acs_product-price\")\n",
    "    price_text = price_element.text.strip()\n",
    "    assert price_text.startswith(\"$\")\n",
    "    return float(price_text[1:])"
   ]
  },
  {
   "cell_type": "code",
   "execution_count": null,
   "metadata": {},
   "outputs": [],
   "source": [
    "extract_bookname(first_card)"
   ]
  },
  {
   "cell_type": "code",
   "execution_count": null,
   "metadata": {},
   "outputs": [],
   "source": [
    "extract_price(first_card)"
   ]
  },
  {
   "cell_type": "markdown",
   "metadata": {},
   "source": [
    "Do not forget to close the browser session to release system resources."
   ]
  },
  {
   "cell_type": "code",
   "execution_count": null,
   "metadata": {},
   "outputs": [],
   "source": [
    "driver.close()"
   ]
  },
  {
   "cell_type": "markdown",
   "metadata": {},
   "source": [
    "## Using Firefox in Headless Mode"
   ]
  },
  {
   "cell_type": "code",
   "execution_count": null,
   "metadata": {},
   "outputs": [],
   "source": [
    "import os\n",
    "\n",
    "os.environ['MOZ_HEADLESS'] = '1'\n",
    "driver = webdriver.Firefox()\n",
    "driver.get(\"https://www.scikit-learn.org/stable\")"
   ]
  },
  {
   "cell_type": "code",
   "execution_count": null,
   "metadata": {},
   "outputs": [],
   "source": [
    "for title in driver.find_elements_by_tag_name(\"h2\"):\n",
    "    print(title.text)"
   ]
  },
  {
   "cell_type": "code",
   "execution_count": null,
   "metadata": {},
   "outputs": [],
   "source": [
    "driver.close()\n",
    "del os.environ['MOZ_HEADLESS']"
   ]
  },
  {
   "cell_type": "code",
   "execution_count": null,
   "metadata": {},
   "outputs": [],
   "source": []
  }
 ],
 "metadata": {
  "kernelspec": {
   "display_name": "python-3.7",
   "language": "python",
   "name": "python-3.7"
  },
  "language_info": {
   "codemirror_mode": {
    "name": "ipython",
    "version": 3
   },
   "file_extension": ".py",
   "mimetype": "text/x-python",
   "name": "python",
   "nbconvert_exporter": "python",
   "pygments_lexer": "ipython3",
   "version": "3.7.0"
  }
 },
 "nbformat": 4,
 "nbformat_minor": 2
}
