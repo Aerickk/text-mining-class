{
 "cells": [
  {
   "cell_type": "markdown",
   "metadata": {},
   "source": [
    "# Web Scraping with a Programmatic Browser\n",
    "\n",
    "Many website use a lot of javascript to render the navigation more dynamic and optimize display speed by only loading the content that can be displayed on the screen of the user devices.\n",
    "\n",
    "For these websites, writing a scraper at the HTTP + HTML level is too complex: one would need to record and analyze all the HTTP request / responses of a typical navigation session to understand how to simulate it with low level tools such as `urllib` and `lxml`.\n",
    "\n",
    "An alternative is to programmatically control the execution of a full-fledged browser like Firefox, Chrome, Edge or Safari and introspect the state of the Document object model. This way it is possible to execute all the javascript necessary to trigger navigation events by using an API that reflects how the end user would interact with the web page (clicking on links, mouse scroll events, pressing keys on the keyboard to type text in forms and so on).\n",
    "\n",
    "To illustrate this approach, let's write a program that simulates the navigation to the Book section of the amazon online shop and retrieve the list of the title of best sellers along with their respective price.\n",
    "\n",
    "To do this exercises you will need to install the Python package for `selenium` (that includes the `webdriver` API), the [Firefox](https://www.mozilla.org/en-US/firefox/) web browser and the [geckodriver](https://github.com/mozilla/geckodriver/releases) helper program (de-zip it and put it somewhere in your PATH, for instance in the `bin/` or `Scripts/` folder of your conda environment."
   ]
  },
  {
   "cell_type": "code",
   "execution_count": null,
   "metadata": {},
   "outputs": [],
   "source": [
    "import sys\n",
    "!{sys.executable} -m pip install selenium"
   ]
  },
  {
   "cell_type": "code",
   "execution_count": null,
   "metadata": {},
   "outputs": [],
   "source": [
    "from selenium import webdriver"
   ]
  },
  {
   "cell_type": "code",
   "execution_count": null,
   "metadata": {},
   "outputs": [],
   "source": [
    "driver = webdriver.Firefox()"
   ]
  },
  {
   "cell_type": "code",
   "execution_count": null,
   "metadata": {},
   "outputs": [],
   "source": [
    "driver.get(\"https://www.amazon.com\")"
   ]
  },
  {
   "cell_type": "code",
   "execution_count": null,
   "metadata": {},
   "outputs": [],
   "source": [
    "driver.find_element_by_link_text(\"Departments\").click()"
   ]
  },
  {
   "cell_type": "code",
   "execution_count": null,
   "metadata": {},
   "outputs": [],
   "source": [
    "driver.find_element_by_link_text(\"Books\").click()"
   ]
  },
  {
   "cell_type": "code",
   "execution_count": null,
   "metadata": {},
   "outputs": [],
   "source": [
    "carousels = driver.find_elements_by_class_name(\"acswidget-carousel\")\n",
    "len(carousels)"
   ]
  },
  {
   "cell_type": "code",
   "execution_count": null,
   "metadata": {},
   "outputs": [],
   "source": [
    "bestsellers_carousels = [c for c in driver.find_elements_by_class_name(\"acswidget-carousel\")\n",
    "                         if \"Books Bestsellers\" in c.text]\n",
    "len(bestsellers_carousels)"
   ]
  },
  {
   "cell_type": "code",
   "execution_count": null,
   "metadata": {},
   "outputs": [],
   "source": [
    "best_seller_carousel = bestsellers_carousels[0]"
   ]
  },
  {
   "cell_type": "code",
   "execution_count": null,
   "metadata": {},
   "outputs": [],
   "source": [
    "nextpage_button = best_seller_carousel.find_element_by_class_name(\"a-carousel-goto-nextpage\")"
   ]
  },
  {
   "cell_type": "code",
   "execution_count": null,
   "metadata": {},
   "outputs": [],
   "source": [
    "nextpage_button.is_enabled()"
   ]
  },
  {
   "cell_type": "code",
   "execution_count": null,
   "metadata": {},
   "outputs": [],
   "source": [
    "# nextpage_button.click()"
   ]
  },
  {
   "cell_type": "code",
   "execution_count": null,
   "metadata": {},
   "outputs": [],
   "source": [
    "driver.execute_script(\"arguments[0].click();\", nextpage_button)"
   ]
  },
  {
   "cell_type": "code",
   "execution_count": null,
   "metadata": {},
   "outputs": [],
   "source": [
    "cards = best_seller_carousel.find_elements_by_class_name(\"a-carousel-card\")\n",
    "len(cards)"
   ]
  },
  {
   "cell_type": "markdown",
   "metadata": {},
   "source": [
    "Try to resize the firefox window or reduce the font size and reload the previous notebook cell."
   ]
  },
  {
   "cell_type": "code",
   "execution_count": null,
   "metadata": {},
   "outputs": [],
   "source": [
    "first_card = cards[0]"
   ]
  },
  {
   "cell_type": "code",
   "execution_count": null,
   "metadata": {},
   "outputs": [],
   "source": [
    "[tag.text for tag in first_card.find_elements_by_tag_name(\"a\")\n",
    " if \"/product/\" in tag.get_attribute(\"href\")\n",
    " and not tag.find_elements_by_tag_name(\"img\")]"
   ]
  },
  {
   "cell_type": "code",
   "execution_count": null,
   "metadata": {},
   "outputs": [],
   "source": [
    "price_text = first_card.find_element_by_class_name(\"acs_product-price\").text\n",
    "price_text"
   ]
  },
  {
   "cell_type": "code",
   "execution_count": null,
   "metadata": {},
   "outputs": [],
   "source": [
    "price = float(price_text.strip().replace(\"$\", \"\"))\n",
    "price"
   ]
  },
  {
   "cell_type": "markdown",
   "metadata": {},
   "source": [
    "Do not forget to close the browser session to release system resources."
   ]
  },
  {
   "cell_type": "code",
   "execution_count": null,
   "metadata": {},
   "outputs": [],
   "source": [
    "driver.close()"
   ]
  },
  {
   "cell_type": "markdown",
   "metadata": {},
   "source": [
    "## Using Firefox in Headless Mode"
   ]
  },
  {
   "cell_type": "code",
   "execution_count": null,
   "metadata": {},
   "outputs": [],
   "source": [
    "import os\n",
    "\n",
    "os.environ['MOZ_HEADLESS'] = '1'\n",
    "driver = webdriver.Firefox()\n",
    "driver.get(\"https://www.scikit-learn.org/stable\")"
   ]
  },
  {
   "cell_type": "code",
   "execution_count": null,
   "metadata": {},
   "outputs": [],
   "source": [
    "for title in driver.find_elements_by_tag_name(\"h2\"):\n",
    "    print(title.text)"
   ]
  },
  {
   "cell_type": "code",
   "execution_count": null,
   "metadata": {},
   "outputs": [],
   "source": [
    "driver.close()\n",
    "del os.environ['MOZ_HEADLESS']"
   ]
  },
  {
   "cell_type": "code",
   "execution_count": null,
   "metadata": {},
   "outputs": [],
   "source": []
  }
 ],
 "metadata": {
  "kernelspec": {
   "display_name": "python-3.7",
   "language": "python",
   "name": "python-3.7"
  },
  "language_info": {
   "codemirror_mode": {
    "name": "ipython",
    "version": 3
   },
   "file_extension": ".py",
   "mimetype": "text/x-python",
   "name": "python",
   "nbconvert_exporter": "python",
   "pygments_lexer": "ipython3",
   "version": "3.7.0"
  }
 },
 "nbformat": 4,
 "nbformat_minor": 2
}
